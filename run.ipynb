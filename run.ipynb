{
 "cells": [
  {
   "cell_type": "code",
   "execution_count": 1,
   "metadata": {},
   "outputs": [
    {
     "name": "stdout",
     "output_type": "stream",
     "text": [
      "Filtros disponibles:\n",
      "1. Por edad\n",
      "2. Por enfermedad\n",
      "3. Por urgencia\n",
      "4. Salir\n",
      "       cedula  edad    nombre  apellido  enfermedad  \\\n",
      "11  728100830    88      Sara   Cicerón           9   \n",
      "18  707719214    82  Verónica  Berganza           5   \n",
      "27  433032148    89     César   Quesada           2   \n",
      "30  365234871    86       Ana     Sofia           6   \n",
      "\n",
      "                nombre_enfermedad urgencia  id  \n",
      "11                   Colonoscopia    verde   9  \n",
      "18         Obstrucción intestinal     rojo   5  \n",
      "27             Hemorragia intensa     rojo   2  \n",
      "30  Cálculos renales o ureterales  naranja   6  \n",
      "Filtros disponibles:\n",
      "1. Por edad\n",
      "2. Por enfermedad\n",
      "3. Por urgencia\n",
      "4. Salir\n"
     ]
    }
   ],
   "source": [
    "from segurosocial import SeguroSocial\n",
    "\n",
    "aplicacion = SeguroSocial()\n",
    "aplicacion.agregar_pacientes()\n",
    "aplicacion.agregar_enfermedades()\n",
    "# aplicacion.generar_lista_espera()\n",
    "# aplicacion.generar_reporte()\n",
    "aplicacion.filtrar_datos()"
   ]
  }
 ],
 "metadata": {
  "kernelspec": {
   "display_name": "Python 3",
   "language": "python",
   "name": "python3"
  },
  "language_info": {
   "codemirror_mode": {
    "name": "ipython",
    "version": 3
   },
   "file_extension": ".py",
   "mimetype": "text/x-python",
   "name": "python",
   "nbconvert_exporter": "python",
   "pygments_lexer": "ipython3",
   "version": "3.11.9"
  }
 },
 "nbformat": 4,
 "nbformat_minor": 2
}
